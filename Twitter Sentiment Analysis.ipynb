{
 "cells": [
  {
   "cell_type": "code",
   "execution_count": 52,
   "metadata": {},
   "outputs": [],
   "source": [
    "import pandas as pd\n",
    "import numpy as np\n",
    "import matplotlib.pyplot as plt\n",
    "from nltk.corpus import stopwords\n",
    "from textblob import TextBlob\n",
    "from tweepy.streaming import StreamListener\n",
    "from tweepy import OAuthHandler\n",
    "from tweepy import Stream\n",
    "import json\n",
    "import io\n",
    "import csv\n",
    "import requests\n",
    "import statistics"
   ]
  },
  {
   "cell_type": "code",
   "execution_count": 2,
   "metadata": {},
   "outputs": [],
   "source": [
    "pd.set_option('mode.chained_assignment', None)"
   ]
  },
  {
   "cell_type": "code",
   "execution_count": 3,
   "metadata": {},
   "outputs": [],
   "source": [
    "search = 'Avengers_Endgame'\n",
    "response = requests.get('http://www.omdbapi.com/?t='+ search + '&plot=full&r=json&apikey=1564c91a')\n",
    "data = response.json()"
   ]
  },
  {
   "cell_type": "code",
   "execution_count": 4,
   "metadata": {},
   "outputs": [
    {
     "data": {
      "text/plain": [
       "'\\naccess_token = \"1117941740227444736-qu5BqutnGTBZvEQ7kXXxbLNoqGGc8k\"\\naccess_token_secret = \"SUeodsFFTxnhD59Tw7PqZvd20JQnkbFMzNedUCjTOsUaM\"\\nconsumer_key = \"jKWR3KGR2FwwezeheLrDOOQEk\"\\nconsumer_secret = \"y99KCmcEFpn9GnmbfbcsW24uTbSP0zrI6KSPgZEtPFvoc6E5Ah\"\\n\\n\\nclass StdOutListener(StreamListener):\\n    def on_data(self, data):\\n        dictionary = json.loads(data)\\n        with io.open(\"newdata.txt\", \"a+\", encoding=\"utf-8\") as twitter_file:\\n            if dictionary[\\'lang\\'] == \\'en\\':\\n                row = dictionary[\\'text\\']\\n                twitter_file.write(row + \\'/|\\n\\')\\n                twitter_file.close()\\n        return True\\n\\n    def on_error(self, status):\\n        print(status)\\n\\n\\nif __name__ == \\'__main__\\':\\n    listener = StdOutListener()\\n    auth = OAuthHandler(consumer_key, consumer_secret)\\n    auth.set_access_token(access_token, access_token_secret)\\n    stream = Stream(auth, listener)\\n    stream.filter(track=[\\'Avengers\\'])\\n'"
      ]
     },
     "execution_count": 4,
     "metadata": {},
     "output_type": "execute_result"
    }
   ],
   "source": [
    "'''\n",
    "access_token = \"1117941740227444736-qu5BqutnGTBZvEQ7kXXxbLNoqGGc8k\"\n",
    "access_token_secret = \"SUeodsFFTxnhD59Tw7PqZvd20JQnkbFMzNedUCjTOsUaM\"\n",
    "consumer_key = \"jKWR3KGR2FwwezeheLrDOOQEk\"\n",
    "consumer_secret = \"y99KCmcEFpn9GnmbfbcsW24uTbSP0zrI6KSPgZEtPFvoc6E5Ah\"\n",
    "\n",
    "\n",
    "class StdOutListener(StreamListener):\n",
    "    def on_data(self, data):\n",
    "        dictionary = json.loads(data)\n",
    "        with io.open(\"newdata.txt\", \"a+\", encoding=\"utf-8\") as twitter_file:\n",
    "            if dictionary['lang'] == 'en':\n",
    "                row = dictionary['text']\n",
    "                twitter_file.write(row + '/|\\n')\n",
    "                twitter_file.close()\n",
    "        return True\n",
    "\n",
    "    def on_error(self, status):\n",
    "        print(status)\n",
    "\n",
    "\n",
    "if __name__ == '__main__':\n",
    "    listener = StdOutListener()\n",
    "    auth = OAuthHandler(consumer_key, consumer_secret)\n",
    "    auth.set_access_token(access_token, access_token_secret)\n",
    "    stream = Stream(auth, listener)\n",
    "    stream.filter(track=['Avengers'])\n",
    "'''"
   ]
  },
  {
   "cell_type": "code",
   "execution_count": 5,
   "metadata": {},
   "outputs": [],
   "source": [
    "with io.open('newdata.txt', 'r', encoding=\"utf-8\") as infile, io.open('text.csv', 'a', encoding=\"utf-8\") as outfile:\n",
    "    stripped = (line.strip() for line in infile)\n",
    "    lines = (line.split(\"/|\") for line in stripped if line)\n",
    "    writer = csv.writer(outfile)\n",
    "    writer.writerows(lines)"
   ]
  },
  {
   "cell_type": "code",
   "execution_count": 6,
   "metadata": {},
   "outputs": [],
   "source": [
    "def word_remover(strings, excluders):\n",
    "    temp_list = list(strings)\n",
    "    for idx, y in enumerate(temp_list):\n",
    "        for x in excluders:\n",
    "            if x in y:\n",
    "                y = y.replace(x, '')\n",
    "                temp_list[idx] = y.replace(x, '')\n",
    "    return(temp_list)"
   ]
  },
  {
   "cell_type": "code",
   "execution_count": 7,
   "metadata": {},
   "outputs": [],
   "source": [
    "def text_splitter(list_input,splitter):\n",
    "    new_list = []\n",
    "    for text in list_input:\n",
    "        head, sep, tail = text.partition(splitter)\n",
    "        new_list.append(head)\n",
    "    return(new_list)"
   ]
  },
  {
   "cell_type": "code",
   "execution_count": null,
   "metadata": {},
   "outputs": [],
   "source": [
    "def mean_getter(len_list,sen_list,range_start,range_end):\n",
    "    avg_list = []\n",
    "    for idx, length in enumerate(len_list):  \n",
    "        if length in range(range_start,range_end):\n",
    "            avg_list.append(sen_list[idx])\n",
    "    return statistics.mean(avg_list)"
   ]
  },
  {
   "cell_type": "code",
   "execution_count": 8,
   "metadata": {},
   "outputs": [],
   "source": [
    "twitter = pd.read_csv('text.csv', '\\t')\n",
    "stop = stopwords.words('english')\n",
    "exclusions = pd.read_csv('marvel_actors.csv',header=0,encoding = 'unicode_escape')"
   ]
  },
  {
   "cell_type": "code",
   "execution_count": 9,
   "metadata": {},
   "outputs": [],
   "source": [
    "length_list = []\n",
    "for text in twitter['Tweet Text']:\n",
    "    length_list.append(len(text))\n",
    "twitter['Tweet Length'] = length_list"
   ]
  },
  {
   "cell_type": "code",
   "execution_count": 10,
   "metadata": {},
   "outputs": [],
   "source": [
    "exclusions['Description'] = text_splitter(exclusions['Description'],'n\\n')"
   ]
  },
  {
   "cell_type": "code",
   "execution_count": 11,
   "metadata": {},
   "outputs": [],
   "source": [
    "exclusions = exclusions.drop(columns=['Position','Const','Created','Modified','Known For','Birth Date'])"
   ]
  },
  {
   "cell_type": "code",
   "execution_count": 12,
   "metadata": {},
   "outputs": [],
   "source": [
    "exclusions['Description'] = exclusions['Description'].apply(lambda x: \" \".join(x.lower() for x in x.split()))\n",
    "exclusions['Description'] = exclusions['Description'].str.replace('[^\\w\\s]','')\n",
    "exclusions['Name'] = exclusions['Name'].apply(lambda x: \" \".join(x.lower() for x in x.split()))\n",
    "exclusions['Name'] = exclusions['Name'].str.replace('[^\\w\\s]','')"
   ]
  },
  {
   "cell_type": "code",
   "execution_count": 13,
   "metadata": {},
   "outputs": [],
   "source": [
    "twitter['Tweet Text'] = twitter['Tweet Text'].apply(lambda x: \" \".join(x.lower() for x in x.split()))"
   ]
  },
  {
   "cell_type": "code",
   "execution_count": 14,
   "metadata": {},
   "outputs": [],
   "source": [
    "twitter['Tweet Text'] = twitter['Tweet Text'].str.replace('[^\\w\\s]','')"
   ]
  },
  {
   "cell_type": "code",
   "execution_count": 15,
   "metadata": {},
   "outputs": [],
   "source": [
    "twitter['Tweet Text'] = twitter['Tweet Text'].apply(lambda x: \" \".join(x for x in x.split() if x not in stop))"
   ]
  },
  {
   "cell_type": "code",
   "execution_count": 16,
   "metadata": {},
   "outputs": [],
   "source": [
    "#frequency = pd.Series(' '.join(twitter['Tweet Text']).split()).value_counts()[:3]"
   ]
  },
  {
   "cell_type": "code",
   "execution_count": 17,
   "metadata": {},
   "outputs": [],
   "source": [
    "#frequency = list(exclusions['Description'])\n",
    "#twitter['Tweet Text'] = twitter['Tweet Text'].apply(lambda x: \" \".join(x for x in x.split() if x not in frequency))"
   ]
  },
  {
   "cell_type": "code",
   "execution_count": 18,
   "metadata": {},
   "outputs": [],
   "source": [
    "#frequency = pd.Series(' '.join(twitter['Tweet Text']).split()).value_counts()[-100:]"
   ]
  },
  {
   "cell_type": "code",
   "execution_count": 19,
   "metadata": {},
   "outputs": [],
   "source": [
    "#frequency = list(frequency.index)\n",
    "#twitter['Tweet Text'] = twitter['Tweet Text'].apply(lambda x: \" \".join(x for x in x.split() if x not in frequency))"
   ]
  },
  {
   "cell_type": "code",
   "execution_count": 20,
   "metadata": {
    "scrolled": true
   },
   "outputs": [],
   "source": [
    "twitter['Tweet Text']=(word_remover(twitter['Tweet Text'], exclusions['Description']))"
   ]
  },
  {
   "cell_type": "code",
   "execution_count": 21,
   "metadata": {},
   "outputs": [],
   "source": [
    "twitter['Tweet Text'] = (word_remover(twitter['Tweet Text'], exclusions['Name']))"
   ]
  },
  {
   "cell_type": "code",
   "execution_count": 97,
   "metadata": {},
   "outputs": [],
   "source": [
    "#twitter"
   ]
  },
  {
   "cell_type": "code",
   "execution_count": 23,
   "metadata": {},
   "outputs": [],
   "source": [
    "twitter['sentiment'] = twitter['Tweet Text'].apply(lambda x: TextBlob(x).sentiment[0])"
   ]
  },
  {
   "cell_type": "code",
   "execution_count": 24,
   "metadata": {},
   "outputs": [],
   "source": [
    "#twitter[twitter['sentiment'] != 0][['Tweet Text', 'sentiment']].head(1000)"
   ]
  },
  {
   "cell_type": "code",
   "execution_count": 25,
   "metadata": {},
   "outputs": [
    {
     "data": {
      "text/plain": [
       "0.07226846727716545"
      ]
     },
     "execution_count": 25,
     "metadata": {},
     "output_type": "execute_result"
    }
   ],
   "source": [
    "twitter['sentiment'].mean()"
   ]
  },
  {
   "cell_type": "code",
   "execution_count": 26,
   "metadata": {},
   "outputs": [
    {
     "data": {
      "text/plain": [
       "0.2613837163687775"
      ]
     },
     "execution_count": 26,
     "metadata": {},
     "output_type": "execute_result"
    }
   ],
   "source": [
    "twitter[twitter['sentiment'] != 0]['sentiment'].mean()"
   ]
  },
  {
   "cell_type": "code",
   "execution_count": 27,
   "metadata": {},
   "outputs": [],
   "source": [
    "rating = twitter[twitter['sentiment'] != 0]['sentiment'].mean() * 50 + 50"
   ]
  },
  {
   "cell_type": "code",
   "execution_count": 28,
   "metadata": {},
   "outputs": [],
   "source": [
    "v1 = int(rating)"
   ]
  },
  {
   "cell_type": "code",
   "execution_count": 29,
   "metadata": {},
   "outputs": [],
   "source": [
    "v2 = int(''.join(word_remover(data['Ratings'][0]['Value'],'%')))"
   ]
  },
  {
   "cell_type": "code",
   "execution_count": 103,
   "metadata": {},
   "outputs": [
    {
     "data": {
      "text/plain": [
       "<matplotlib.axes._subplots.AxesSubplot at 0x16c814b7898>"
      ]
     },
     "execution_count": 103,
     "metadata": {},
     "output_type": "execute_result"
    },
    {
     "data": {
      "image/png": "[encoded data removed]",
      "text/plain": [
       "<Figure size 432x288 with 1 Axes>"
      ]
     },
     "metadata": {
      "needs_background": "light"
     },
     "output_type": "display_data"
    }
   ],
   "source": [
    "plt.bar(1,v1,label='Sentiment',width=0.5)\n",
    "plt.bar(2,v2,label='Critical Rating',width=0.5)\n",
    "plt.xlabel('Rating %')\n",
    "plt.title('Twitter Sentiment vs. Critical Ratings\\n For Avengers: Endgame')\n",
    "plt.legend()\n",
    "chart1 = plt.gca()\n",
    "chart1.axes.get_xaxis().set_visible(False)\n",
    "chart1"
   ]
  },
  {
   "cell_type": "code",
   "execution_count": 31,
   "metadata": {},
   "outputs": [
    {
     "data": {
      "text/plain": [
       "80.30361820592134"
      ]
     },
     "execution_count": 31,
     "metadata": {},
     "output_type": "execute_result"
    }
   ],
   "source": [
    "twitter[twitter['Tweet Length'] > 1]['Tweet Length'].mean()"
   ]
  },
  {
   "cell_type": "code",
   "execution_count": 67,
   "metadata": {},
   "outputs": [
    {
     "name": "stdout",
     "output_type": "stream",
     "text": [
      "153\n"
     ]
    }
   ],
   "source": [
    "print(twitter['Tweet Length'].max())"
   ]
  },
  {
   "cell_type": "code",
   "execution_count": 94,
   "metadata": {},
   "outputs": [
    {
     "name": "stdout",
     "output_type": "stream",
     "text": [
      "[51299.54619491843, 29495.57368973206, 59469.969198931576, 26552.22833021274, 94536.61862756561, 199392.4362520912]\n"
     ]
    }
   ],
   "source": [
    "expansion_factor= 10**6\n",
    "mean_list = [\n",
    "    mean_getter(twitter['Tweet Length'],twitter['sentiment'],20, 40)*expansion_factor,\n",
    "    mean_getter(twitter['Tweet Length'],twitter['sentiment'],40, 60)*expansion_factor,\n",
    "    mean_getter(twitter['Tweet Length'],twitter['sentiment'],60, 80)*expansion_factor,\n",
    "    mean_getter(twitter['Tweet Length'],twitter['sentiment'],80, 100)*expansion_factor,\n",
    "    mean_getter(twitter['Tweet Length'],twitter['sentiment'],100, 120)*expansion_factor,\n",
    "    mean_getter(twitter['Tweet Length'],twitter['sentiment'],140, 160)*expansion_factor\n",
    "]\n",
    "print(mean_list)"
   ]
  },
  {
   "cell_type": "code",
   "execution_count": 102,
   "metadata": {},
   "outputs": [
    {
     "data": {
      "image/png": "[encoded data removed]",
      "text/plain": [
       "<Figure size 432x288 with 1 Axes>"
      ]
     },
     "metadata": {
      "needs_background": "light"
     },
     "output_type": "display_data"
    }
   ],
   "source": [
    "bins = [20,40,60,80,100,120,140,160,180,200,220,240,260,280]\n",
    "plt.hist(twitter[twitter['Tweet Length'] > 1]['Tweet Length'], bins, histtype='bar', rwidth=0.5,label='Tweet Length')\n",
    "plt.title('Tweet Length vs. Sentiment')\n",
    "plt.ylabel('Number of Tweets')\n",
    "plt.xlabel('Tweet Length')\n",
    "plt.plot(bins[:len(mean_list)],mean_list,color='red',label='           Tweet Sentiment\\n(Expanded by factor of 10^6)')\n",
    "plt.legend()\n",
    "plt.show()\n"
   ]
  },
  {
   "cell_type": "code",
   "execution_count": null,
   "metadata": {},
   "outputs": [],
   "source": []
  }
 ],
 "metadata": {
  "kernelspec": {
   "display_name": "Python 3",
   "language": "python",
   "name": "python3"
  },
  "language_info": {
   "codemirror_mode": {
    "name": "ipython",
    "version": 3
   },
   "file_extension": ".py",
   "mimetype": "text/x-python",
   "name": "python",
   "nbconvert_exporter": "python",
   "pygments_lexer": "ipython3",
   "version": "3.7.3"
  }
 },
 "nbformat": 4,
 "nbformat_minor": 2
}
